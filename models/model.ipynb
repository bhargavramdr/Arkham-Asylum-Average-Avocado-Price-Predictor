{
 "cells": [
  {
   "cell_type": "markdown",
   "id": "555593b2",
   "metadata": {},
   "source": [
    "### Model"
   ]
  },
  {
   "cell_type": "code",
   "execution_count": 1,
   "id": "eb8b68a5",
   "metadata": {},
   "outputs": [],
   "source": [
    "import pandas as pd\n",
    "import numpy as np"
   ]
  },
  {
   "cell_type": "code",
   "execution_count": 2,
   "id": "c2243b68",
   "metadata": {},
   "outputs": [],
   "source": [
    "avo_data = pd.read_csv(\"avocado.csv\")"
   ]
  },
  {
   "cell_type": "code",
   "execution_count": 3,
   "id": "6efb275d",
   "metadata": {},
   "outputs": [],
   "source": [
    "avo_data.drop([\"Unnamed: 0\",'4046', '4225','4770' ],  axis = 1, inplace = True)"
   ]
  },
  {
   "cell_type": "code",
   "execution_count": 4,
   "id": "d01334d9",
   "metadata": {},
   "outputs": [
    {
     "data": {
      "text/plain": [
       "['Date', 'type', 'region']"
      ]
     },
     "execution_count": 4,
     "metadata": {},
     "output_type": "execute_result"
    }
   ],
   "source": [
    "cat = avo_data.select_dtypes(include = [\"object\"]).columns\n",
    "\n",
    "cat = list(cat)\n",
    "\n",
    "cat"
   ]
  },
  {
   "cell_type": "code",
   "execution_count": 5,
   "id": "296b1add",
   "metadata": {},
   "outputs": [],
   "source": [
    "from sklearn.preprocessing import LabelEncoder\n",
    "\n",
    "label = LabelEncoder()\n",
    "\n",
    "avo_data['type'] = label.fit_transform(avo_data['type'])\n",
    "\n",
    "avo_data['region'] = label.fit_transform(avo_data['region'])\n",
    "\n",
    "avo_data['Date'] = label.fit_transform(avo_data['Date'])"
   ]
  },
  {
   "cell_type": "code",
   "execution_count": 6,
   "id": "d4d23588",
   "metadata": {},
   "outputs": [],
   "source": [
    "avo_data = avo_data.astype(float)"
   ]
  },
  {
   "cell_type": "code",
   "execution_count": 7,
   "id": "34e2f227",
   "metadata": {},
   "outputs": [
    {
     "name": "stdout",
     "output_type": "stream",
     "text": [
      "Date                84.00\n",
      "AveragePrice         0.56\n",
      "Total Volume    422123.71\n",
      "Total Bags      105694.73\n",
      "Small Bags       80488.25\n",
      "Large Bags       21901.78\n",
      "XLarge Bags        132.50\n",
      "type                 1.00\n",
      "year                 2.00\n",
      "region              27.00\n",
      "dtype: float64\n"
     ]
    }
   ],
   "source": [
    "Q1 = avo_data.quantile(0.25)\n",
    "\n",
    "Q3 = avo_data.quantile(0.75)\n",
    "\n",
    "\n",
    "IQR = Q3 - Q1\n",
    "\n",
    "print(IQR)\n"
   ]
  },
  {
   "cell_type": "code",
   "execution_count": 8,
   "id": "d20cb03d",
   "metadata": {},
   "outputs": [],
   "source": [
    "avo_data = avo_data[~((avo_data < (Q1 - 1.5*IQR)) | (avo_data > (Q3 + 1.5*IQR))).any(axis = 1)]"
   ]
  },
  {
   "cell_type": "code",
   "execution_count": 9,
   "id": "69dd8c95",
   "metadata": {},
   "outputs": [],
   "source": [
    "features = avo_data[[\"year\", \"region\", \"type\", \"Total Volume\", \"Total Bags\"]]"
   ]
  },
  {
   "cell_type": "code",
   "execution_count": 10,
   "id": "35ef4b2f",
   "metadata": {},
   "outputs": [],
   "source": [
    "target = avo_data[\"AveragePrice\"]"
   ]
  },
  {
   "cell_type": "code",
   "execution_count": 11,
   "id": "b5cebb96",
   "metadata": {},
   "outputs": [],
   "source": [
    "from sklearn.model_selection import train_test_split\n",
    "\n",
    "X_train, X_test, y_train, y_test = train_test_split(features, target, test_size = 0.2, random_state = 0)"
   ]
  },
  {
   "cell_type": "code",
   "execution_count": 12,
   "id": "ad3f8348",
   "metadata": {},
   "outputs": [],
   "source": [
    "from sklearn.feature_selection import SelectKBest\n",
    "from sklearn.preprocessing import StandardScaler\n",
    "from sklearn.pipeline import make_pipeline\n",
    "from sklearn.ensemble import RandomForestRegressor"
   ]
  },
  {
   "cell_type": "code",
   "execution_count": 13,
   "id": "2faffe71",
   "metadata": {},
   "outputs": [],
   "source": [
    "forest = make_pipeline(SelectKBest(k = \"all\"), StandardScaler(), \n",
    "                       RandomForestRegressor(max_depth = 150, n_jobs = -1, random_state = 64))"
   ]
  },
  {
   "cell_type": "code",
   "execution_count": 14,
   "id": "237880fb",
   "metadata": {},
   "outputs": [
    {
     "data": {
      "text/plain": [
       "Pipeline(steps=[('selectkbest', SelectKBest(k='all')),\n",
       "                ('standardscaler', StandardScaler()),\n",
       "                ('randomforestregressor',\n",
       "                 RandomForestRegressor(max_depth=150, n_jobs=-1,\n",
       "                                       random_state=64))])"
      ]
     },
     "execution_count": 14,
     "metadata": {},
     "output_type": "execute_result"
    }
   ],
   "source": [
    "forest.fit(X_train, y_train)\n"
   ]
  },
  {
   "cell_type": "code",
   "execution_count": 15,
   "id": "25802aff",
   "metadata": {},
   "outputs": [],
   "source": [
    "# import sklearn_json as skjson\n",
    "\n",
    "# skjson.to_json(forest, \"model_j.json\")\n"
   ]
  },
  {
   "cell_type": "code",
   "execution_count": 16,
   "id": "e3cf9741",
   "metadata": {},
   "outputs": [],
   "source": [
    "import pickle as pkl\n",
    "\n",
    "pkl.dump(forest, open(\"model.pkl\", \"wb\"))"
   ]
  }
 ],
 "metadata": {
  "kernelspec": {
   "display_name": "Python 3 (ipykernel)",
   "language": "python",
   "name": "python3"
  },
  "language_info": {
   "codemirror_mode": {
    "name": "ipython",
    "version": 3
   },
   "file_extension": ".py",
   "mimetype": "text/x-python",
   "name": "python",
   "nbconvert_exporter": "python",
   "pygments_lexer": "ipython3",
   "version": "3.9.7"
  }
 },
 "nbformat": 4,
 "nbformat_minor": 5
}
