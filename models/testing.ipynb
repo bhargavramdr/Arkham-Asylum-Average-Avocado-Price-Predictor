{
 "cells": [
  {
   "cell_type": "code",
   "execution_count": 1,
   "id": "7a41f79d",
   "metadata": {},
   "outputs": [],
   "source": [
    "import pandas as pd\n",
    "import numpy as np\n",
    "import pickle as pkl"
   ]
  },
  {
   "cell_type": "code",
   "execution_count": 2,
   "id": "4bbd2f5b",
   "metadata": {},
   "outputs": [],
   "source": [
    "model = pkl.load(open(\"model.pkl\", \"rb\"))"
   ]
  },
  {
   "cell_type": "code",
   "execution_count": null,
   "id": "48a1ec2b",
   "metadata": {},
   "outputs": [],
   "source": [
    "year              2015.00\n",
    "region              26.00\n",
    "type                 0.00\n",
    "Total Volume    201797.82\n",
    "Total Bags       44395.34"
   ]
  },
  {
   "cell_type": "code",
   "execution_count": 3,
   "id": "81e3ff13",
   "metadata": {},
   "outputs": [
    {
     "data": {
      "text/plain": [
       "array([0.9608])"
      ]
     },
     "execution_count": 3,
     "metadata": {},
     "output_type": "execute_result"
    }
   ],
   "source": [
    "model.predict([[2014, 26, 0, 201700, 44395]])"
   ]
  },
  {
   "cell_type": "code",
   "execution_count": null,
   "id": "b7f8fc7a",
   "metadata": {},
   "outputs": [],
   "source": []
  }
 ],
 "metadata": {
  "kernelspec": {
   "display_name": "Python 3 (ipykernel)",
   "language": "python",
   "name": "python3"
  },
  "language_info": {
   "codemirror_mode": {
    "name": "ipython",
    "version": 3
   },
   "file_extension": ".py",
   "mimetype": "text/x-python",
   "name": "python",
   "nbconvert_exporter": "python",
   "pygments_lexer": "ipython3",
   "version": "3.9.7"
  }
 },
 "nbformat": 4,
 "nbformat_minor": 5
}
